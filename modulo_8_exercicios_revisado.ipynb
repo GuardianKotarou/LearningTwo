{
  "nbformat": 4,
  "nbformat_minor": 0,
  "metadata": {
    "colab": {
      "provenance": [],
      "include_colab_link": true
    },
    "kernelspec": {
      "name": "python3",
      "display_name": "Python 3"
    }
  },
  "cells": [
    {
      "cell_type": "markdown",
      "metadata": {
        "id": "view-in-github",
        "colab_type": "text"
      },
      "source": [
        "<a href=\"https://colab.research.google.com/github/GuardianKotarou/LearningTwo/blob/main/modulo_8_exercicios_revisado.ipynb\" target=\"_parent\"><img src=\"https://colab.research.google.com/assets/colab-badge.svg\" alt=\"Open In Colab\"/></a>"
      ]
    },
    {
      "cell_type": "markdown",
      "metadata": {
        "id": "KJqp9AANOCtf"
      },
      "source": [
        "<img src=\"https://raw.githubusercontent.com/andre-marcos-perez/ebac-course-utils/main/media/logo/newebac_logo_black_half.png\" alt=\"ebac-logo\">\n",
        "\n",
        "---\n",
        "\n",
        "# **Módulo 08** | Python: Tratamento de Erros\n",
        "Caderno de **Exercícios**<br>\n",
        "Professor [André Perez](https://www.linkedin.com/in/andremarcosperez/)\n",
        "\n",
        "---"
      ]
    },
    {
      "cell_type": "markdown",
      "metadata": {
        "id": "d9jDtUbDOE1-"
      },
      "source": [
        "# **Tópicos**\n",
        "\n",
        "<ol type=\"1\">\n",
        "  <li>Tipos de erros;</li>\n",
        "  <li>Erros de sintaxe;</li>\n",
        "  <li>Erros em tempo de execução.</li>\n",
        "</ol>"
      ]
    },
    {
      "cell_type": "markdown",
      "metadata": {
        "id": "SmoHgt-lwkpD"
      },
      "source": [
        "---"
      ]
    },
    {
      "cell_type": "markdown",
      "metadata": {
        "id": "GABI6OW8OfQ2"
      },
      "source": [
        "# **Exercícios**"
      ]
    },
    {
      "cell_type": "markdown",
      "metadata": {
        "id": "muD1vxozykSC"
      },
      "source": [
        "## 1\\. Erros de sintaxe"
      ]
    },
    {
      "cell_type": "markdown",
      "metadata": {
        "id": "ahrFfCuBxJKs"
      },
      "source": [
        "Identifique o erro de sintaxe nos trechos de código abaixo e corrija-os para que o trecho de código funcione."
      ]
    },
    {
      "cell_type": "markdown",
      "metadata": {
        "id": "sCluir52-zGM"
      },
      "source": [
        " - Laços de repetição."
      ]
    },
    {
      "cell_type": "code",
      "metadata": {
        "id": "eebFnvGd-zSC",
        "colab": {
          "base_uri": "https://localhost:8080/",
          "height": 140
        },
        "outputId": "90687a40-66e6-46a8-e56e-04bce711316b"
      },
      "source": [
        "credito = {'123': 750, '456': 812, '789': 980}\n",
        "\n",
        "for chave, valor in credito.items():\n",
        "  print(f'Para o documento {chave}, o valor do escore de crédito é {valor}.\")"
      ],
      "execution_count": 2,
      "outputs": [
        {
          "output_type": "error",
          "ename": "SyntaxError",
          "evalue": "unterminated string literal (detected at line 4) (<ipython-input-2-3fb55843cacf>, line 4)",
          "traceback": [
            "\u001b[0;36m  File \u001b[0;32m\"<ipython-input-2-3fb55843cacf>\"\u001b[0;36m, line \u001b[0;32m4\u001b[0m\n\u001b[0;31m    print(f'Para o documento {chave}, o valor do escore de crédito é {valor}.\")\u001b[0m\n\u001b[0m          ^\u001b[0m\n\u001b[0;31mSyntaxError\u001b[0m\u001b[0;31m:\u001b[0m unterminated string literal (detected at line 4)\n"
          ]
        }
      ]
    },
    {
      "cell_type": "code",
      "source": [
        "# Solução\n",
        "# Erro de sintaxe, erro na escrita, pelo que percebi, em print há uma aspa ', e outra aspa dupla \"\n",
        "\n",
        "credito = {'123': 750, '456': 812, '789': 980}\n",
        "\n",
        "for chave, valor in credito.items():\n",
        "  print(f\"Para o documento {chave}, o valor do escore de crédito é {valor}.\")"
      ],
      "metadata": {
        "colab": {
          "base_uri": "https://localhost:8080/"
        },
        "id": "j1VgYbaOb58f",
        "outputId": "35e26821-670f-4fae-ae3e-b135c67e6c83"
      },
      "execution_count": 3,
      "outputs": [
        {
          "output_type": "stream",
          "name": "stdout",
          "text": [
            "Para o documento 123, o valor do escore de crédito é 750.\n",
            "Para o documento 456, o valor do escore de crédito é 812.\n",
            "Para o documento 789, o valor do escore de crédito é 980.\n"
          ]
        }
      ]
    },
    {
      "cell_type": "markdown",
      "metadata": {
        "id": "NKDaQYt889VZ"
      },
      "source": [
        " - Funções"
      ]
    },
    {
      "cell_type": "code",
      "metadata": {
        "id": "GZHnCmRH89hg",
        "colab": {
          "base_uri": "https://localhost:8080/",
          "height": 140
        },
        "outputId": "c0197477-b0a1-43b0-9119-55a029a50cc2"
      },
      "source": [
        "def pi() --> float:\n",
        "  return 3.14159265359\n",
        "\n",
        "pi = pi()\n",
        "print(pi)"
      ],
      "execution_count": 6,
      "outputs": [
        {
          "output_type": "error",
          "ename": "SyntaxError",
          "evalue": "expected ':' (<ipython-input-6-56ff1fca92a3>, line 1)",
          "traceback": [
            "\u001b[0;36m  File \u001b[0;32m\"<ipython-input-6-56ff1fca92a3>\"\u001b[0;36m, line \u001b[0;32m1\u001b[0m\n\u001b[0;31m    def pi() --> float:\u001b[0m\n\u001b[0m             ^\u001b[0m\n\u001b[0;31mSyntaxError\u001b[0m\u001b[0;31m:\u001b[0m expected ':'\n"
          ]
        }
      ]
    },
    {
      "cell_type": "code",
      "source": [
        "# Solução\n",
        "# Na parte do código -->, há dois travessão, o certo é um só\n",
        "\n",
        "def pi() -> float:\n",
        "  return 3.14159265359\n",
        "\n",
        "pi = pi()\n",
        "print(pi)"
      ],
      "metadata": {
        "colab": {
          "base_uri": "https://localhost:8080/"
        },
        "id": "s7aLyk8NcZcZ",
        "outputId": "f1be8ca6-2087-47fa-b75f-445c609f5eb9"
      },
      "execution_count": 7,
      "outputs": [
        {
          "output_type": "stream",
          "name": "stdout",
          "text": [
            "3.14159265359\n"
          ]
        }
      ]
    },
    {
      "cell_type": "markdown",
      "metadata": {
        "id": "i6EIHmQZ8KMy"
      },
      "source": [
        "- Programação Funcional"
      ]
    },
    {
      "cell_type": "code",
      "metadata": {
        "id": "_1a3EEYU8JsU",
        "colab": {
          "base_uri": "https://localhost:8080/",
          "height": 140
        },
        "outputId": "d7fa9100-3b93-4327-8ea4-78194e09a11a"
      },
      "source": [
        "emails = ['andre.perez@gmail.com', 'andre.perez@live.com', 'andre.perez@yahoo.com']\n",
        "provedor_da_google = lambda email: 'gmail in email\n",
        "\n",
        "emails_google = filter(provedor_da_google, emails)\n",
        "print(list(emails_google))"
      ],
      "execution_count": 12,
      "outputs": [
        {
          "output_type": "error",
          "ename": "SyntaxError",
          "evalue": "unterminated string literal (detected at line 2) (<ipython-input-12-c33190bce3c5>, line 2)",
          "traceback": [
            "\u001b[0;36m  File \u001b[0;32m\"<ipython-input-12-c33190bce3c5>\"\u001b[0;36m, line \u001b[0;32m2\u001b[0m\n\u001b[0;31m    provedor_da_google = lambda email: 'gmail in email\u001b[0m\n\u001b[0m                                       ^\u001b[0m\n\u001b[0;31mSyntaxError\u001b[0m\u001b[0;31m:\u001b[0m unterminated string literal (detected at line 2)\n"
          ]
        }
      ]
    },
    {
      "cell_type": "code",
      "source": [
        "# Solução\n",
        "# Há uma aspa em falta na função da variável provedor_da_google\n",
        "\n",
        "emails = ['andre.perez@gmail.com', 'andre.perez@live.com', 'andre.perez@yahoo.com']\n",
        "provedor_da_google = lambda email: 'gmail' in email\n",
        "\n",
        "emails_google = filter(provedor_da_google, emails)\n",
        "print(list(emails_google))"
      ],
      "metadata": {
        "colab": {
          "base_uri": "https://localhost:8080/"
        },
        "id": "hwh0uv-hdDLj",
        "outputId": "26eb882e-96ac-4129-8ad1-165bd364ca21"
      },
      "execution_count": 13,
      "outputs": [
        {
          "output_type": "stream",
          "name": "stdout",
          "text": [
            "['andre.perez@gmail.com']\n"
          ]
        }
      ]
    },
    {
      "cell_type": "markdown",
      "metadata": {
        "id": "KI9zQRT2xa7m"
      },
      "source": [
        "- Programação orientação a objetos"
      ]
    },
    {
      "cell_type": "code",
      "metadata": {
        "id": "XD-C996C7gvN",
        "colab": {
          "base_uri": "https://localhost:8080/",
          "height": 140
        },
        "outputId": "2faaa273-534b-4889-ab9b-ad7c7a0d34a5"
      },
      "source": [
        "class Pessoa(object):\n",
        "\n",
        "  def __init__(self nome: str, idade: int, documento: str):\n",
        "    self.nome = nome\n",
        "    self.idade = idade\n",
        "    self.documento = documento\n",
        "\n",
        "andre = Pessoa(nome=\"Andre\", idade=30, document=\"123\")"
      ],
      "execution_count": 23,
      "outputs": [
        {
          "output_type": "error",
          "ename": "SyntaxError",
          "evalue": "invalid syntax (<ipython-input-23-37cd340c5fe3>, line 3)",
          "traceback": [
            "\u001b[0;36m  File \u001b[0;32m\"<ipython-input-23-37cd340c5fe3>\"\u001b[0;36m, line \u001b[0;32m3\u001b[0m\n\u001b[0;31m    def __init__(self nome: str, idade: int, documento: str):\u001b[0m\n\u001b[0m                      ^\u001b[0m\n\u001b[0;31mSyntaxError\u001b[0m\u001b[0;31m:\u001b[0m invalid syntax\n"
          ]
        }
      ]
    },
    {
      "cell_type": "code",
      "source": [
        "# Solução\n",
        "# Há dois erros aqui, mas ele identifica apenas um\n",
        "#o primeiro erro está na função no qual o (self) não está com vírgula antes do nome\n",
        "#o segundo é a variável andre,havendo uma falta de um 'o' em document, devendo ser documento\n",
        "\n",
        "class Pessoa(object):\n",
        "\n",
        "  def __init__(self, nome: str, idade: int, documento: str):\n",
        "    self.nome = nome\n",
        "    self.idade = idade\n",
        "    self.documento = documento\n",
        "\n",
        "andre = Pessoa(nome=\"Andre\", idade=30, documento=\"123\")"
      ],
      "metadata": {
        "id": "Qg84IMEyeG1o"
      },
      "execution_count": 26,
      "outputs": []
    },
    {
      "cell_type": "markdown",
      "metadata": {
        "id": "zMN1Q3jdwoJm"
      },
      "source": [
        "---"
      ]
    },
    {
      "cell_type": "markdown",
      "metadata": {
        "id": "qh4asQbf6dBX"
      },
      "source": [
        "## 2\\. Erros em tempo de execução"
      ]
    },
    {
      "cell_type": "markdown",
      "metadata": {
        "id": "71iuLvVJ6dB-"
      },
      "source": [
        "Neste exercício vamos trabalhar com o arquivo csv com dados de crédito, definido abaixo. Execute cada uma das células de código para escrever os arquivos na sua máquina virtual."
      ]
    },
    {
      "cell_type": "code",
      "metadata": {
        "id": "FCBXZUQd3frz",
        "colab": {
          "base_uri": "https://localhost:8080/"
        },
        "outputId": "8718ecae-80c5-4107-d411-8b2a3407de8a"
      },
      "source": [
        "%%writefile credito.csv\n",
        "id_vendedor,valor_emprestimos,quantidade_emprestimos,data\n",
        "104271,448.0,1,20161208\n",
        "21476,826.7,3,20161208\n",
        "87440,313.6,3,20161208\n",
        "15980,808.0,6,20161208\n",
        "215906,2212.0,5,20161208\n",
        "33696,2771.3,2,20161208\n",
        "33893,2240.0,3,20161208\n",
        "214946,\"4151.0\",18,20161208\n",
        "123974,2021.95,2,20161208\n",
        "225870,4039.0,2,20161208"
      ],
      "execution_count": 27,
      "outputs": [
        {
          "output_type": "stream",
          "name": "stdout",
          "text": [
            "Writing credito.csv\n"
          ]
        }
      ]
    },
    {
      "cell_type": "markdown",
      "metadata": {
        "id": "FIe14G9H3779"
      },
      "source": [
        "O código abaixo deve calcular o total emprestado por cada vendedor mas está \"estourando\" a exceção `ValueError` devido a um erro no conjunto de dados. Utilize a estrutura `try-catch` para garantir que o código seja executado com sucesso.\n",
        "\n",
        "**Atenção:** Você não deve alterar o arquivo de dados."
      ]
    },
    {
      "cell_type": "markdown",
      "source": [
        "Dicas:\n",
        "\n",
        "\n",
        "\n",
        "1.  Identique o bloco que código que pode gerar a exceção e utilize `try` e `except` de modo que a operação que pode causar o problema seja colocada dentro do bloco `try`, e o código que trata a exceção seja escrito dentro do bloco `except`.\n",
        "2.   Tratar a exceção no `except`: utilize o método `replace()` para remover as aspas do conjunto de dados 'linha_elementos[1]'."
      ],
      "metadata": {
        "id": "ppxj6ZqvcsCp"
      }
    },
    {
      "cell_type": "markdown",
      "source": [
        "Resumo sobre o método `replace()`:\n",
        "\n",
        "O método `replace()` é usado para substituir determinado conteúdo de uma string. Esse método recebe 2 argumentos obrigatórios: o 1º corresponde ao valor original que será substituído e o 2º corresponde ao novo valor inserido.\n",
        "\n",
        "Na prática, o interpretador Python vai percorrer a string e, assim que encontrar o valor correspondente ao 1º argumento vai substituir o conteúdo do 1º argumento pelo conteúdo do 2º argumento."
      ],
      "metadata": {
        "id": "Vr-iv94GVung"
      }
    },
    {
      "cell_type": "markdown",
      "source": [
        "\n",
        "Sintaxe:\n",
        "```\n",
        "replace('valor que será substituído', 'novo valor inserido')\n",
        "```\n",
        "\n"
      ],
      "metadata": {
        "id": "OBTRJ_73F12c"
      }
    },
    {
      "cell_type": "markdown",
      "source": [
        "Exemplo - aplicação método replace():"
      ],
      "metadata": {
        "id": "bG0nUyU4izx9"
      }
    },
    {
      "cell_type": "code",
      "source": [
        "frase2 = 'Módulos finalizados: 1, 2, 3, *4*, *5*, *6* e 7'\n",
        "\n",
        "# Usar o replace() para trocar o caractere asterisco pelo caractere aspas na string \"frase2\"\n",
        "print(frase2.replace('*','\"'))"
      ],
      "metadata": {
        "colab": {
          "base_uri": "https://localhost:8080/"
        },
        "outputId": "8d28f3b1-301f-48d5-e1df-83cd757c08ce",
        "id": "N35DQs_akT2j"
      },
      "execution_count": null,
      "outputs": [
        {
          "output_type": "stream",
          "name": "stdout",
          "text": [
            "Módulos finalizados: 1, 2, 3, \"4\", \"5\", \"6\" e 7\n"
          ]
        }
      ]
    },
    {
      "cell_type": "markdown",
      "source": [
        "Obs: Através do replace() para remover um caractere, o método vai substituir cada caractere por vazio."
      ],
      "metadata": {
        "id": "Qu_3NPRmbm6Y"
      }
    },
    {
      "cell_type": "code",
      "metadata": {
        "id": "cOkNYOdd5GMK",
        "colab": {
          "base_uri": "https://localhost:8080/",
          "height": 245
        },
        "outputId": "f3ef311b-e3d6-4500-8841-04f3d6af38a3"
      },
      "source": [
        "def valor_total_emprestimo(valor: float, quantidade: int) -> float:\n",
        "  return valor * quantidade\n",
        "\n",
        "emprestimos = []\n",
        "\n",
        "with open(file='./credito.csv', mode='r', encoding='utf8') as fp:\n",
        "  fp.readline() # cabeçalho\n",
        "  linha = fp.readline()\n",
        "  while linha:\n",
        "    linha_emprestimo = {}\n",
        "    linha_elementos = linha.strip().split(sep=',')\n",
        "    linha_emprestimo['id_vendedor'] = linha_elementos[0]\n",
        "    linha_emprestimo['valor_emprestimos'] = float(linha_elementos[1])\n",
        "    linha_emprestimo['quantidade_emprestimos'] = int(linha_elementos[2])\n",
        "    linha_emprestimo['data'] = linha_elementos[3]\n",
        "    emprestimos.append(linha_emprestimo)\n",
        "    linha = fp.readline()\n",
        "\n",
        "emprestimos_total = []\n",
        "for emprestimo in emprestimos:\n",
        "  valor_total = valor_total_emprestimo(valor=emprestimo['valor_emprestimos'], quantidade=emprestimo['quantidade_emprestimos'])\n",
        "  emprestimos_total.append({emprestimo['id_vendedor']: valor_total})\n",
        "\n",
        "for emprestimo_total in emprestimos_total:\n",
        "  print(emprestimo_total)"
      ],
      "execution_count": 59,
      "outputs": [
        {
          "output_type": "error",
          "ename": "ValueError",
          "evalue": "could not convert string to float: '\"4151.0\"'",
          "traceback": [
            "\u001b[0;31m---------------------------------------------------------------------------\u001b[0m",
            "\u001b[0;31mValueError\u001b[0m                                Traceback (most recent call last)",
            "\u001b[0;32m<ipython-input-59-f7e186840902>\u001b[0m in \u001b[0;36m<cell line: 6>\u001b[0;34m()\u001b[0m\n\u001b[1;32m     11\u001b[0m     \u001b[0mlinha_elementos\u001b[0m \u001b[0;34m=\u001b[0m \u001b[0mlinha\u001b[0m\u001b[0;34m.\u001b[0m\u001b[0mstrip\u001b[0m\u001b[0;34m(\u001b[0m\u001b[0;34m)\u001b[0m\u001b[0;34m.\u001b[0m\u001b[0msplit\u001b[0m\u001b[0;34m(\u001b[0m\u001b[0msep\u001b[0m\u001b[0;34m=\u001b[0m\u001b[0;34m','\u001b[0m\u001b[0;34m)\u001b[0m\u001b[0;34m\u001b[0m\u001b[0;34m\u001b[0m\u001b[0m\n\u001b[1;32m     12\u001b[0m     \u001b[0mlinha_emprestimo\u001b[0m\u001b[0;34m[\u001b[0m\u001b[0;34m'id_vendedor'\u001b[0m\u001b[0;34m]\u001b[0m \u001b[0;34m=\u001b[0m \u001b[0mlinha_elementos\u001b[0m\u001b[0;34m[\u001b[0m\u001b[0;36m0\u001b[0m\u001b[0;34m]\u001b[0m\u001b[0;34m\u001b[0m\u001b[0;34m\u001b[0m\u001b[0m\n\u001b[0;32m---> 13\u001b[0;31m     \u001b[0mlinha_emprestimo\u001b[0m\u001b[0;34m[\u001b[0m\u001b[0;34m'valor_emprestimos'\u001b[0m\u001b[0;34m]\u001b[0m \u001b[0;34m=\u001b[0m \u001b[0mfloat\u001b[0m\u001b[0;34m(\u001b[0m\u001b[0mlinha_elementos\u001b[0m\u001b[0;34m[\u001b[0m\u001b[0;36m1\u001b[0m\u001b[0;34m]\u001b[0m\u001b[0;34m)\u001b[0m\u001b[0;34m\u001b[0m\u001b[0;34m\u001b[0m\u001b[0m\n\u001b[0m\u001b[1;32m     14\u001b[0m     \u001b[0mlinha_emprestimo\u001b[0m\u001b[0;34m[\u001b[0m\u001b[0;34m'quantidade_emprestimos'\u001b[0m\u001b[0;34m]\u001b[0m \u001b[0;34m=\u001b[0m \u001b[0mint\u001b[0m\u001b[0;34m(\u001b[0m\u001b[0mlinha_elementos\u001b[0m\u001b[0;34m[\u001b[0m\u001b[0;36m2\u001b[0m\u001b[0;34m]\u001b[0m\u001b[0;34m)\u001b[0m\u001b[0;34m\u001b[0m\u001b[0;34m\u001b[0m\u001b[0m\n\u001b[1;32m     15\u001b[0m     \u001b[0mlinha_emprestimo\u001b[0m\u001b[0;34m[\u001b[0m\u001b[0;34m'data'\u001b[0m\u001b[0;34m]\u001b[0m \u001b[0;34m=\u001b[0m \u001b[0mlinha_elementos\u001b[0m\u001b[0;34m[\u001b[0m\u001b[0;36m3\u001b[0m\u001b[0;34m]\u001b[0m\u001b[0;34m\u001b[0m\u001b[0;34m\u001b[0m\u001b[0m\n",
            "\u001b[0;31mValueError\u001b[0m: could not convert string to float: '\"4151.0\"'"
          ]
        }
      ]
    },
    {
      "cell_type": "code",
      "source": [
        "#Solução\n",
        "#Em cima identificamos que é na linha 13 o erro, então o try deve começar antes dela\n",
        "\n",
        "def valor_total_emprestimo(valor: float, quantidade: int) -> float:\n",
        "  return valor * quantidade\n",
        "\n",
        "emprestimos = []\n",
        "\n",
        "with open(file='./credito.csv', mode='r', encoding='utf8') as fp:\n",
        "  fp.readline() # cabeçalho\n",
        "  linha = fp.readline()\n",
        "  while linha:\n",
        "    linha_emprestimo = {}\n",
        "    linha_elementos = linha.strip().split(sep=',')\n",
        "    linha_emprestimo['id_vendedor'] = linha_elementos[0]\n",
        "    try:\n",
        "      linha_emprestimo['valor_emprestimos'] = float(linha_elementos[1])\n",
        "    #Aqui utilizaremos o except + o erro, ele vai localizar onde está o erro, e aqui podemos colocar a solução\n",
        "    except ValueError:\n",
        "      linha_emprestimo['valor_emprestimos'] = float(linha_elementos[1].replace('\"',''))\n",
        "    #Caso algum novo erro apareça!\n",
        "    except Exception as exc:\n",
        "      print(f'Erro novo identificado: \"{exc}\"')\n",
        "    linha_emprestimo['quantidade_emprestimos'] = int(linha_elementos[2])\n",
        "    linha_emprestimo['data'] = linha_elementos[3]\n",
        "    emprestimos.append(linha_emprestimo)\n",
        "    linha = fp.readline()\n",
        "\n",
        "emprestimos_total = []\n",
        "for emprestimo in emprestimos:\n",
        "  valor_total = valor_total_emprestimo(valor=emprestimo['valor_emprestimos'], quantidade=emprestimo['quantidade_emprestimos'])\n",
        "  emprestimos_total.append({emprestimo['id_vendedor']: valor_total})\n",
        "\n",
        "for emprestimo_total in emprestimos_total:\n",
        "  print(emprestimo_total)"
      ],
      "metadata": {
        "colab": {
          "base_uri": "https://localhost:8080/"
        },
        "id": "JEYx5i59qgFT",
        "outputId": "cf47cb84-f6b8-4832-a497-b8429a07ec00"
      },
      "execution_count": 61,
      "outputs": [
        {
          "output_type": "stream",
          "name": "stdout",
          "text": [
            "{'104271': 448.0}\n",
            "{'21476': 2480.1000000000004}\n",
            "{'87440': 940.8000000000001}\n",
            "{'15980': 4848.0}\n",
            "{'215906': 11060.0}\n",
            "{'33696': 5542.6}\n",
            "{'33893': 6720.0}\n",
            "{'214946': 74718.0}\n",
            "{'123974': 4043.9}\n",
            "{'225870': 8078.0}\n"
          ]
        }
      ]
    },
    {
      "cell_type": "markdown",
      "metadata": {
        "id": "0dKgZEQB8ZwP"
      },
      "source": [
        "O resultado final deve ser a impressão da seguinte lista:\n",
        "\n",
        "```\n",
        "{'104271': 448.0}\n",
        "{'21476': 2480.1000000000004}\n",
        "{'87440': 940.8000000000001}\n",
        "{'15980': 4848.0}\n",
        "{'215906': 11060.0}\n",
        "{'33696': 5542.6}\n",
        "{'33893': 6720.0}\n",
        "{'214946': 74718.0}\n",
        "{'123974': 4043.9}\n",
        "{'225870': 8078.0}\n",
        "```"
      ]
    },
    {
      "cell_type": "markdown",
      "metadata": {
        "id": "zkqY6ImS6dCB"
      },
      "source": [
        "---"
      ]
    }
  ]
}