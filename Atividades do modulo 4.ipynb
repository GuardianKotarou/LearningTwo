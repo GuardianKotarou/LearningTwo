{
 "cells": [
  {
   "attachments": {},
   "cell_type": "markdown",
   "metadata": {},
   "source": [
    "# Tarefa 03\n",
    "\n",
    "- Leia os enunciados com atenção\n",
    "- Saiba que pode haver mais de uma resposta correta\n",
    "- Insira novas células de código sempre que achar necessário\n",
    "- Em caso de dúvidas, procure os Tutores\n",
    "- Divirta-se :)"
   ]
  },
  {
   "cell_type": "code",
   "execution_count": 3,
   "metadata": {},
   "outputs": [],
   "source": [
    "import pandas as pd\n",
    "import requests"
   ]
  },
  {
   "attachments": {},
   "cell_type": "markdown",
   "metadata": {},
   "source": [
    "####  1) Lendo de APIs\n",
    "Vimos em aula como carregar dados públicos do governo através de um API (*Application Programming Interface*). No exemplo de aula, baixamos os dados de pedidos de verificação de limites (PVL) realizados por estados, e selecionamos apenas aqueles referentes ao estado de São Paulo.\n",
    "\n",
    "1. Repita os mesmos passos feitos em aula, mas selecione os PVLs realizados por municípios no estado do Rio de Janeiro.\n",
    "2. Quais são os três *status* das solicitações mais frequentes na base? Quais são suas frequências?\n",
    "3. Construa uma nova variável que contenha o ano do **status**. Observe que ```data_status``` vem como tipo *object* no **DataFrame**. Dica: você pode usar o método ```.str``` para transformar o tipo da variável em string, em seguida um método como [**slice()**](https://pandas.pydata.org/docs/reference/api/pandas.Series.str.slice.html) ou [**split()**](https://pandas.pydata.org/pandas-docs/stable/reference/api/pandas.Series.str.split.html).\n",
    "4. Indique a frequência de cada ano do campo construído no item (3)."
   ]
  },
  {
   "cell_type": "code",
   "execution_count": 4,
   "metadata": {},
   "outputs": [],
   "source": [
    "# 1) Seu código aqui\n",
    "url = \"https://apidatalake.tesouro.gov.br/ords/sadipem/tt/pvl?uf=RJ&tipo_interessado=Munic%C3%ADpio\"\n",
    "r = requests.get(url)\n",
    "r.status_code\n",
    "data_json = r.json()"
   ]
  },
  {
   "cell_type": "code",
   "execution_count": 5,
   "metadata": {},
   "outputs": [
    {
     "data": {
      "text/plain": [
       "Deferido                                                 96\n",
       "Arquivado                                                53\n",
       "Regularizado                                             26\n",
       "Arquivado por decurso de prazo                           24\n",
       "Deferido (PVL-IF)                                        20\n",
       "Encaminhado à PGFN com manifestação técnica favorável    13\n",
       "Arquivado a pedido                                        6\n",
       "Em retificação pelo interessado                           4\n",
       "Em retificação pelo credor                                2\n",
       "Em análise                                                1\n",
       "Em retificação pelo interessado (PVL-IF)                  1\n",
       "Assinado pelo interessado (retificação)                   1\n",
       "Pendente de distribuição (PVL-IF)                         1\n",
       "Name: status, dtype: int64"
      ]
     },
     "execution_count": 5,
     "metadata": {},
     "output_type": "execute_result"
    }
   ],
   "source": [
    "# 2) Seu código aqui\n",
    "base_dados = pd.DataFrame(data_json['items'])\n",
    "base_dados['status'].value_counts()"
   ]
  },
  {
   "cell_type": "code",
   "execution_count": 6,
   "metadata": {},
   "outputs": [
    {
     "data": {
      "text/plain": [
       "25/05/2007    6\n",
       "02/08/2007    5\n",
       "30/10/2008    5\n",
       "27/09/2019    4\n",
       "15/09/2008    4\n",
       "             ..\n",
       "10/08/2017    1\n",
       "19/12/2013    1\n",
       "15/05/2006    1\n",
       "28/03/2016    1\n",
       "01/09/2016    1\n",
       "Name: data_status, Length: 187, dtype: int64"
      ]
     },
     "execution_count": 6,
     "metadata": {},
     "output_type": "execute_result"
    }
   ],
   "source": [
    "# 3) Seu código aqui\n",
    "base_dados['data_status'].value_counts()\n",
    "#Não entendi a parte do slice ou split, indicar frequência seria gráfico?\n",
    "\n",
    "\n"
   ]
  },
  {
   "attachments": {},
   "cell_type": "markdown",
   "metadata": {},
   "source": [
    "####  2) Melhorando a interação com o API\n",
    "Observe dois URLs de consultas diferentes, por exemplo o URL utilizado em aula, e o URL feito no exercício anterior. Compare-os e observe as diferenças.\n",
    "\n",
    "1. Faça uma função em Python que recebe como argumento o UF da consulta e o tipo de interessado (```'Estado'```ou ```Município```), e que devolve os dados da consulta no formato *DataFrame*.\n",
    "2. Quantas solicitações para o Estado podem ser consultadas para Minas Gerais com *status* em 'Arquivado por decurso de prazo' estão registradas?\n",
    "3. Qual é o município da Bahia com mais solicitações deferidas?\n",
    "4. Salve um arquivo .csv com os dados de solicitações da Bahia, com interessado = 'Estado'"
   ]
  },
  {
   "cell_type": "code",
   "execution_count": 7,
   "metadata": {},
   "outputs": [
    {
     "data": {
      "text/plain": [
       "Deferido                                                 3036\n",
       "Deferido (PVL-IF)                                         596\n",
       "Arquivado                                                 549\n",
       "Arquivado por decurso de prazo                            241\n",
       "Regularizado                                              207\n",
       "Encaminhado à PGFN com manifestação técnica favorável     187\n",
       "Arquivado a pedido                                         75\n",
       "Indeferido                                                 20\n",
       "Em retificação pelo interessado                            17\n",
       "Em retificação pelo credor                                 13\n",
       "Pendente de regularização                                  13\n",
       "Cancelado                                                   8\n",
       "Em análise (PVL-IF)                                         8\n",
       "Arquivado a pedido (PVL-IF)                                 6\n",
       "Em análise                                                  5\n",
       "Arquivado por decurso de prazo (PVL-IF)                     4\n",
       "Em retificação pelo credor (PVL-IF)                         4\n",
       "Em retificação pelo interessado (PVL-IF)                    3\n",
       "Encaminhado à PGFN (decisão judicial)                       3\n",
       "Assinado pelo interessado (retificação)                     2\n",
       "Deferido (decisão judicial)                                 2\n",
       "Enviado à instituição financeira (PVL-IF)                   1\n",
       "Name: status, dtype: int64"
      ]
     },
     "execution_count": 7,
     "metadata": {},
     "output_type": "execute_result"
    }
   ],
   "source": [
    "#0) Seu código aqui\n",
    "\n",
    "url1 = \"https://apidatalake.tesouro.gov.br/ords/sadipem/tt/pvl\"\n",
    "j = requests.get(url1)\n",
    "j.status_code\n",
    "data_json1 = j.json()\n",
    "\n",
    "base_dados_1 = pd.DataFrame(data_json1['items'])\n",
    "base_dados_1['status'].value_counts()"
   ]
  },
  {
   "cell_type": "code",
   "execution_count": 8,
   "metadata": {},
   "outputs": [
    {
     "data": {
      "text/plain": [
       "[                interessado\n",
       " 0                   Colniza\n",
       " 1       Encruzilhada do Sul\n",
       " 2     São José do Rio Preto\n",
       " 3                  Louveira\n",
       " 4                Erval Seco\n",
       " ...                     ...\n",
       " 4995           Campo Grande\n",
       " 4996              Viradouro\n",
       " 4997               Itaguajé\n",
       " 4998       Cordilheira Alta\n",
       " 4999             Uberlândia\n",
       " \n",
       " [5000 rows x 1 columns],\n",
       "       uf\n",
       " 0     MT\n",
       " 1     RS\n",
       " 2     SP\n",
       " 3     SP\n",
       " 4     RS\n",
       " ...   ..\n",
       " 4995  MS\n",
       " 4996  SP\n",
       " 4997  PR\n",
       " 4998  SC\n",
       " 4999  MG\n",
       " \n",
       " [5000 rows x 1 columns]]"
      ]
     },
     "execution_count": 8,
     "metadata": {},
     "output_type": "execute_result"
    }
   ],
   "source": [
    "#1) Seu código aqui\n",
    "municipio = pd.DataFrame(base_dados_1['interessado'])\n",
    "estado = pd.DataFrame(base_dados_1['uf'])\n",
    "\n",
    "total = [municipio] + [estado]\n",
    "total\n",
    "\n",
    "#Essa parte eu também me compliquei não entendi muito bem, mas gostaria que me desse um feedback, acho que não está do jeito\n",
    "#que vocês queriam\n"
   ]
  },
  {
   "cell_type": "code",
   "execution_count": 9,
   "metadata": {},
   "outputs": [
    {
     "data": {
      "text/plain": [
       "Deferido                                                 513\n",
       "Deferido (PVL-IF)                                        161\n",
       "Arquivado                                                103\n",
       "Arquivado por decurso de prazo                            62\n",
       "Regularizado                                              26\n",
       "Encaminhado à PGFN com manifestação técnica favorável      9\n",
       "Arquivado a pedido                                         8\n",
       "Em retificação pelo credor (PVL-IF)                        4\n",
       "Arquivado por decurso de prazo (PVL-IF)                    4\n",
       "Cancelado                                                  2\n",
       "Em análise                                                 1\n",
       "Em retificação pelo interessado (PVL-IF)                   1\n",
       "Em retificação pelo credor                                 1\n",
       "Indeferido                                                 1\n",
       "Em retificação pelo interessado                            1\n",
       "Name: status, dtype: int64"
      ]
     },
     "execution_count": 9,
     "metadata": {},
     "output_type": "execute_result"
    }
   ],
   "source": [
    "# 2) Seu código aqui\n",
    "\n",
    "MG = base_dados_1.loc[base_dados_1['uf'] == 'MG']\n",
    "mgdata = pd.DataFrame(MG)\n",
    "\n",
    "mgdata['status'].value_counts()\n",
    "\n"
   ]
  },
  {
   "cell_type": "code",
   "execution_count": 10,
   "metadata": {},
   "outputs": [
    {
     "data": {
      "text/plain": [
       "Bahia                  13\n",
       "Lauro de Freitas        5\n",
       "Baianópolis             3\n",
       "Alagoinhas              3\n",
       "Teixeira de Freitas     3\n",
       "                       ..\n",
       "São Desidério           1\n",
       "Serra Preta             1\n",
       "Macaúbas                1\n",
       "Wenceslau Guimarães     1\n",
       "Guanambi                1\n",
       "Name: interessado, Length: 74, dtype: int64"
      ]
     },
     "execution_count": 10,
     "metadata": {},
     "output_type": "execute_result"
    }
   ],
   "source": [
    "# 3) Seu código aqui\n",
    "BA = base_dados_1.loc[base_dados_1['uf'] == 'BA']\n",
    "BAdata = pd.DataFrame(BA)\n",
    "BAmuni = BAdata.loc[BAdata['status'] == 'Deferido', 'interessado'].value_counts()\n",
    "BAmuni\n",
    "\n",
    "#Não sei se tá correto, mas por favor agradeço o feedback\n",
    "\n"
   ]
  },
  {
   "cell_type": "code",
   "execution_count": 13,
   "metadata": {},
   "outputs": [],
   "source": [
    "BAmuni.to_csv('Atividade_Módulo_42.csv', sep=';')"
   ]
  }
 ],
 "metadata": {
  "kernelspec": {
   "display_name": "Python 3",
   "language": "python",
   "name": "python3"
  },
  "language_info": {
   "codemirror_mode": {
    "name": "ipython",
    "version": 3
   },
   "file_extension": ".py",
   "mimetype": "text/x-python",
   "name": "python",
   "nbconvert_exporter": "python",
   "pygments_lexer": "ipython3",
   "version": "3.10.9"
  }
 },
 "nbformat": 4,
 "nbformat_minor": 4
}
